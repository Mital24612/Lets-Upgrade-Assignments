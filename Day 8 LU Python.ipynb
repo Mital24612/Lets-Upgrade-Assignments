{
 "cells": [
  {
   "cell_type": "markdown",
   "metadata": {},
   "source": [
    "# END OF BATCH 6\n",
    "\n",
    "ANNOCEMENT ABOUT EXAMINATION ON 2nd of August"
   ]
  },
  {
   "cell_type": "markdown",
   "metadata": {},
   "source": [
    "# By SAI SIR"
   ]
  },
  {
   "cell_type": "markdown",
   "metadata": {},
   "source": [
    "Built-in-Functions "
   ]
  },
  {
   "cell_type": "raw",
   "metadata": {},
   "source": [
    "lambda\n",
    "map\n",
    "filter\n",
    "reduce\n",
    "sorted()\n",
    "isinstance()\n",
    "len()\n",
    "dir()\n",
    "zip()\n",
    "sum()\n",
    "eval()"
   ]
  },
  {
   "cell_type": "markdown",
   "metadata": {},
   "source": [
    " lambda"
   ]
  },
  {
   "cell_type": "code",
   "execution_count": 1,
   "metadata": {},
   "outputs": [
    {
     "name": "stdout",
     "output_type": "stream",
     "text": [
      "7\n"
     ]
    }
   ],
   "source": [
    "l = lambda x,y : x+y \n",
    "print (l(5,2))"
   ]
  },
  {
   "cell_type": "code",
   "execution_count": 2,
   "metadata": {},
   "outputs": [
    {
     "name": "stdout",
     "output_type": "stream",
     "text": [
      "81\n"
     ]
    }
   ],
   "source": [
    "n = lambda x,y : x**y\n",
    "print (n(3,4))"
   ]
  },
  {
   "cell_type": "markdown",
   "metadata": {},
   "source": [
    "filter"
   ]
  },
  {
   "cell_type": "markdown",
   "metadata": {},
   "source": [
    "help(filter)"
   ]
  },
  {
   "cell_type": "code",
   "execution_count": 15,
   "metadata": {},
   "outputs": [
    {
     "name": "stdout",
     "output_type": "stream",
     "text": [
      "<filter object at 0x0000025391047208>\n",
      "(1, 3, 5, 7, 9)\n",
      "[]\n"
     ]
    }
   ],
   "source": [
    "list1 = [1,2,3,4,5,6,7,8,9,10]\n",
    "list2 = []\n",
    "\n",
    "def fun1(x):\n",
    "    if x%2 != 0 :\n",
    "        return True\n",
    "    else :\n",
    "        return False\n",
    "\n",
    "list2 = filter(fun1, list1)\n",
    "print(list2)\n",
    "print (tuple(list2))\n",
    "print (list(list2))"
   ]
  },
  {
   "cell_type": "markdown",
   "metadata": {},
   "source": [
    "map"
   ]
  },
  {
   "cell_type": "code",
   "execution_count": 18,
   "metadata": {},
   "outputs": [
    {
     "name": "stdout",
     "output_type": "stream",
     "text": [
      "[32.0, 39.2, 50.0, 98.6, 113.0, 212.0]\n"
     ]
    }
   ],
   "source": [
    "list1 = [0,4,10,37,45,100]\n",
    "list2 = []\n",
    "\n",
    "def temp(t1):\n",
    "    return t1*9/5+32\n",
    "\n",
    "\n",
    "list2 = map(temp, list1)\n",
    "\n",
    "print(list(list2))"
   ]
  },
  {
   "cell_type": "code",
   "execution_count": 22,
   "metadata": {},
   "outputs": [
    {
     "name": "stdout",
     "output_type": "stream",
     "text": [
      "[32.0, 39.2, 50.0, 98.6, 113.0, 212.0]\n"
     ]
    }
   ],
   "source": [
    "#Using Lambda\n",
    "list1 = [0,4,10,37,45,100]\n",
    "\n",
    "list2 = map(lambda t1:t1*9/5+32, list1)\n",
    "\n",
    "print(list(list2))"
   ]
  },
  {
   "cell_type": "markdown",
   "metadata": {},
   "source": [
    "reduce"
   ]
  },
  {
   "cell_type": "code",
   "execution_count": 25,
   "metadata": {},
   "outputs": [
    {
     "data": {
      "text/plain": [
       "200"
      ]
     },
     "execution_count": 25,
     "metadata": {},
     "output_type": "execute_result"
    }
   ],
   "source": [
    "from functools import reduce\n",
    "\n",
    "list1 = [100,20,30,50]\n",
    "\n",
    "def fun1(x,y):\n",
    "    return x+y\n",
    "\n",
    "reduce(fun1,list1)"
   ]
  },
  {
   "cell_type": "code",
   "execution_count": 26,
   "metadata": {},
   "outputs": [
    {
     "data": {
      "text/plain": [
       "0"
      ]
     },
     "execution_count": 26,
     "metadata": {},
     "output_type": "execute_result"
    }
   ],
   "source": [
    "list1 = [100,20,30,50]\n",
    "\n",
    "def fun1(x,y):\n",
    "    return x-y\n",
    "\n",
    "reduce(fun1,list1)"
   ]
  },
  {
   "cell_type": "code",
   "execution_count": 28,
   "metadata": {},
   "outputs": [
    {
     "data": {
      "text/plain": [
       "10"
      ]
     },
     "execution_count": 28,
     "metadata": {},
     "output_type": "execute_result"
    }
   ],
   "source": [
    "list1 = [110,20,30,50]\n",
    "\n",
    "def fun1(x,y):\n",
    "    return x-y\n",
    "\n",
    "reduce(fun1,list1)"
   ]
  },
  {
   "cell_type": "markdown",
   "metadata": {},
   "source": [
    "sorted()"
   ]
  },
  {
   "cell_type": "markdown",
   "metadata": {},
   "source": [
    "it works on both list and tuple and return new list"
   ]
  },
  {
   "cell_type": "code",
   "execution_count": 31,
   "metadata": {},
   "outputs": [
    {
     "name": "stdout",
     "output_type": "stream",
     "text": [
      "[1, 2, 4, 10, 20, 90]\n",
      "[10, 20, 4, 2, 1, 90]\n"
     ]
    }
   ],
   "source": [
    "list1 = [10,20,4,2,1,90]\n",
    "list2 = sorted(list1)\n",
    "print(list2)\n",
    "print(list1)"
   ]
  },
  {
   "cell_type": "code",
   "execution_count": 32,
   "metadata": {},
   "outputs": [
    {
     "name": "stdout",
     "output_type": "stream",
     "text": [
      "[1, 2, 4, 10, 20, 90]\n",
      "(10, 20, 4, 2, 1, 90)\n"
     ]
    }
   ],
   "source": [
    "list1 = (10,20,4,2,1,90)\n",
    "list2 = sorted(list1)\n",
    "print(list2)\n",
    "print(list1)"
   ]
  },
  {
   "cell_type": "markdown",
   "metadata": {},
   "source": [
    "isinstance()"
   ]
  },
  {
   "cell_type": "code",
   "execution_count": 33,
   "metadata": {},
   "outputs": [
    {
     "data": {
      "text/plain": [
       "str"
      ]
     },
     "execution_count": 33,
     "metadata": {},
     "output_type": "execute_result"
    }
   ],
   "source": [
    "type(\"Hey\")"
   ]
  },
  {
   "cell_type": "code",
   "execution_count": 36,
   "metadata": {},
   "outputs": [
    {
     "name": "stdout",
     "output_type": "stream",
     "text": [
      "10.0\n",
      "20.0\n",
      "40.0\n",
      "50.0\n",
      "70.0\n"
     ]
    }
   ],
   "source": [
    "list1 = [1,2,4,5,7]\n",
    "bw = 10\n",
    "for each in list1:\n",
    "    kpi = each/bw*100\n",
    "    print(kpi)"
   ]
  },
  {
   "cell_type": "code",
   "execution_count": 37,
   "metadata": {},
   "outputs": [
    {
     "name": "stdout",
     "output_type": "stream",
     "text": [
      "10.0\n"
     ]
    },
    {
     "ename": "TypeError",
     "evalue": "unsupported operand type(s) for /: 'str' and 'int'",
     "output_type": "error",
     "traceback": [
      "\u001b[1;31m---------------------------------------------------------------------------\u001b[0m",
      "\u001b[1;31mTypeError\u001b[0m                                 Traceback (most recent call last)",
      "\u001b[1;32m<ipython-input-37-5458fc7c920e>\u001b[0m in \u001b[0;36m<module>\u001b[1;34m\u001b[0m\n\u001b[0;32m      2\u001b[0m \u001b[0mbw\u001b[0m \u001b[1;33m=\u001b[0m \u001b[1;36m10\u001b[0m\u001b[1;33m\u001b[0m\u001b[1;33m\u001b[0m\u001b[0m\n\u001b[0;32m      3\u001b[0m \u001b[1;32mfor\u001b[0m \u001b[0meach\u001b[0m \u001b[1;32min\u001b[0m \u001b[0mlist1\u001b[0m\u001b[1;33m:\u001b[0m\u001b[1;33m\u001b[0m\u001b[1;33m\u001b[0m\u001b[0m\n\u001b[1;32m----> 4\u001b[1;33m     \u001b[0mkpi\u001b[0m \u001b[1;33m=\u001b[0m \u001b[0meach\u001b[0m\u001b[1;33m/\u001b[0m\u001b[0mbw\u001b[0m\u001b[1;33m*\u001b[0m\u001b[1;36m100\u001b[0m\u001b[1;33m\u001b[0m\u001b[1;33m\u001b[0m\u001b[0m\n\u001b[0m\u001b[0;32m      5\u001b[0m     \u001b[0mprint\u001b[0m\u001b[1;33m(\u001b[0m\u001b[0mkpi\u001b[0m\u001b[1;33m)\u001b[0m\u001b[1;33m\u001b[0m\u001b[1;33m\u001b[0m\u001b[0m\n",
      "\u001b[1;31mTypeError\u001b[0m: unsupported operand type(s) for /: 'str' and 'int'"
     ]
    }
   ],
   "source": [
    "list1 = [1,\"82\",4,5,7,\"5\",\"7\"]\n",
    "bw = 10\n",
    "for each in list1:\n",
    "    kpi = each/bw*100\n",
    "    print(kpi)"
   ]
  },
  {
   "cell_type": "code",
   "execution_count": 45,
   "metadata": {},
   "outputs": [
    {
     "name": "stdout",
     "output_type": "stream",
     "text": [
      "10.0\n",
      "unsupported operand type(s) for /: 'str' and 'int'\n",
      "40.0\n",
      "50.0\n",
      "70.0\n",
      "unsupported operand type(s) for /: 'str' and 'int'\n",
      "unsupported operand type(s) for /: 'str' and 'int'\n"
     ]
    }
   ],
   "source": [
    "list1 = [1,\"8\",4,5,7,\"5\",\"7\"]\n",
    "bw = 10\n",
    "for each in list1:\n",
    "    try:\n",
    "        kpi = each/bw*100\n",
    "        print(kpi)\n",
    "    except Exception as e:\n",
    "        print(e)"
   ]
  },
  {
   "cell_type": "code",
   "execution_count": 42,
   "metadata": {},
   "outputs": [
    {
     "name": "stdout",
     "output_type": "stream",
     "text": [
      "Help on built-in function isinstance in module builtins:\n",
      "\n",
      "isinstance(obj, class_or_tuple, /)\n",
      "    Return whether an object is an instance of a class or of a subclass thereof.\n",
      "    \n",
      "    A tuple, as in ``isinstance(x, (A, B, ...))``, may be given as the target to\n",
      "    check against. This is equivalent to ``isinstance(x, A) or isinstance(x, B)\n",
      "    or ...`` etc.\n",
      "\n"
     ]
    }
   ],
   "source": [
    "help(isinstance)"
   ]
  },
  {
   "cell_type": "code",
   "execution_count": 44,
   "metadata": {},
   "outputs": [
    {
     "name": "stdout",
     "output_type": "stream",
     "text": [
      "10.0\n",
      "80.0\n",
      "40.0\n",
      "50.0\n",
      "70.0\n",
      "50.0\n",
      "70.0\n"
     ]
    }
   ],
   "source": [
    "list1 = [1,\"8\",4,5,7,\"5\",\"7\"]\n",
    "bw = 10\n",
    "for each in list1:\n",
    "    try:\n",
    "        if isinstance(each, str):\n",
    "            each = eval(each)\n",
    "        kpi = each/bw*100\n",
    "        print(kpi)\n",
    "    except Exception as e:\n",
    "        print(e)"
   ]
  },
  {
   "cell_type": "markdown",
   "metadata": {},
   "source": [
    "sum()"
   ]
  },
  {
   "cell_type": "code",
   "execution_count": 46,
   "metadata": {},
   "outputs": [
    {
     "data": {
      "text/plain": [
       "150"
      ]
     },
     "execution_count": 46,
     "metadata": {},
     "output_type": "execute_result"
    }
   ],
   "source": [
    "list1 = [10,20,50,70]\n",
    "sum(list1)"
   ]
  },
  {
   "cell_type": "markdown",
   "metadata": {},
   "source": [
    "Eval()"
   ]
  },
  {
   "cell_type": "code",
   "execution_count": 53,
   "metadata": {},
   "outputs": [
    {
     "data": {
      "text/plain": [
       "'[5, 6, 7]'"
      ]
     },
     "execution_count": 53,
     "metadata": {},
     "output_type": "execute_result"
    }
   ],
   "source": [
    "list1 = [5,6,7]\n",
    "list2 = str(list1)\n",
    "list2"
   ]
  },
  {
   "cell_type": "code",
   "execution_count": 54,
   "metadata": {},
   "outputs": [
    {
     "name": "stdout",
     "output_type": "stream",
     "text": [
      "[5, 6, 7] <class 'str'>\n"
     ]
    }
   ],
   "source": [
    "print(list2,type(list2))"
   ]
  },
  {
   "cell_type": "code",
   "execution_count": 55,
   "metadata": {},
   "outputs": [
    {
     "name": "stdout",
     "output_type": "stream",
     "text": [
      "[5, 6, 7] <class 'list'>\n"
     ]
    }
   ],
   "source": [
    "list2 = eval(list2)\n",
    "print(list2,type(list2))"
   ]
  },
  {
   "cell_type": "markdown",
   "metadata": {},
   "source": [
    "# END OF DAY 8"
   ]
  }
 ],
 "metadata": {
  "kernelspec": {
   "display_name": "Python 3",
   "language": "python",
   "name": "python3"
  },
  "language_info": {
   "codemirror_mode": {
    "name": "ipython",
    "version": 3
   },
   "file_extension": ".py",
   "mimetype": "text/x-python",
   "name": "python",
   "nbconvert_exporter": "python",
   "pygments_lexer": "ipython3",
   "version": "3.7.6"
  }
 },
 "nbformat": 4,
 "nbformat_minor": 4
}
